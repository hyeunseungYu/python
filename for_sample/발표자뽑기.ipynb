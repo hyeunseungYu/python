{
 "cells": [
  {
   "cell_type": "code",
   "execution_count": 9,
   "metadata": {},
   "outputs": [],
   "source": [
    "import time\n",
    "import random\n",
    "\n",
    "# 1. 발표자 명단 리스트를 준비한다.\n",
    "presenters = ['Presenter1', 'Presenter2', 'Presenter3', 'Presenter4', 'Presenter5']\n"
   ]
  },
  {
   "cell_type": "code",
   "execution_count": 12,
   "metadata": {},
   "outputs": [
    {
     "name": "stdout",
     "output_type": "stream",
     "text": [
      "5\n",
      "4\n",
      "3\n",
      "2\n",
      "1\n"
     ]
    },
    {
     "data": {
      "text/html": [
       "<b><font size=\"3\">이번 발표자는!!!!</font> <font size=\"5\">🎉Presenter5🎉</font></b>"
      ],
      "text/plain": [
       "<IPython.core.display.HTML object>"
      ]
     },
     "metadata": {},
     "output_type": "display_data"
    },
    {
     "name": "stdout",
     "output_type": "stream",
     "text": [
      "남은 발표자는!!!:  ['Presenter1', 'Presenter2', 'Presenter4']\n"
     ]
    }
   ],
   "source": [
    "from IPython.display import display, HTML\n",
    "\n",
    "# 사용자의 입력을 받는다.\n",
    "proceed = input(\"추첨을 진행하려면 '출발'을 입력하세요: \")\n",
    "if proceed == '출발':\n",
    "    # 4. 2번에서 특정인 1명을 뽑기 전에, 5초부터 4,3,2,1 카운트를 실제 초단위로 출력한다.\n",
    "    for i in range(5, 0, -1):\n",
    "        print(i)\n",
    "        time.sleep(1)\n",
    "\n",
    "    # 2. 발표자 명단 리스트에서 특정인 1명을 뽑는다.\n",
    "    selected_presenter = random.choice(presenters)\n",
    "\n",
    "    # HTML로 출력하여 강조 효과를 준다.\n",
    "    display(HTML(f'<b><font size=\"3\">이번 발표자는!!!!</font> <font size=\"5\">🎉{selected_presenter}🎉</font></b>'))\n",
    "\n",
    "    # 3. 발표자 명단 리스트에서 방금 뽑힌 1명을 리스트에서 제거한다.\n",
    "    presenters.remove(selected_presenter)\n",
    "\n",
    "    print(\"남은 발표자는!!!: \", presenters)\n",
    "else:\n",
    "    print(\"올바른 입력값이 아닙니다. '다음'을 입력해주세요.\")\n"
   ]
  }
 ],
 "metadata": {
  "kernelspec": {
   "display_name": "venv",
   "language": "python",
   "name": "python3"
  },
  "language_info": {
   "codemirror_mode": {
    "name": "ipython",
    "version": 3
   },
   "file_extension": ".py",
   "mimetype": "text/x-python",
   "name": "python",
   "nbconvert_exporter": "python",
   "pygments_lexer": "ipython3",
   "version": "3.11.0"
  },
  "orig_nbformat": 4
 },
 "nbformat": 4,
 "nbformat_minor": 2
}
